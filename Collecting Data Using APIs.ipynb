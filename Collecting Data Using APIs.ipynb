{
    "cells": [
        {
            "cell_type": "markdown",
            "metadata": {},
            "source": "<center>\n    <img src=\"https://gitlab.com/ibm/skills-network/courses/placeholder101/-/raw/master/labs/module%201/images/IDSNlogo.png\" width=\"300\" alt=\"cognitiveclass.ai logo\"  />\n</center>\n"
        },
        {
            "cell_type": "markdown",
            "metadata": {},
            "source": "# **Collecting Job Data Using APIs**\n"
        },
        {
            "cell_type": "markdown",
            "metadata": {},
            "source": "Estimated time needed: **45 to 60** minutes\n"
        },
        {
            "cell_type": "markdown",
            "metadata": {},
            "source": "## Objectives\n"
        },
        {
            "cell_type": "markdown",
            "metadata": {},
            "source": "After completing this lab, you will be able to:\n"
        },
        {
            "cell_type": "markdown",
            "metadata": {},
            "source": "*   Collect job data from GitHub Jobs API\n*   Store the collected data into an excel spreadsheet.\n"
        },
        {
            "cell_type": "markdown",
            "metadata": {},
            "source": "## Warm-Up Exercise\n"
        },
        {
            "cell_type": "markdown",
            "metadata": {},
            "source": "Before you attempt the actual lab, here is a fully solved warmup exercise that will help you to learn how to access an API.\n"
        },
        {
            "cell_type": "markdown",
            "metadata": {},
            "source": "Using an API, let us find out who currently are on the International Space Station (ISS).<br> The API at [http://api.open-notify.org/astros.json](http://api.open-notify.org/astros.json?utm_medium=Exinfluencer&utm_source=Exinfluencer&utm_content=000026UJ&utm_term=10006555&utm_id=NA-SkillsNetwork-Channel-SkillsNetworkCoursesIBMDA0321ENSkillsNetwork21426264-2021-01-01&cm_mmc=Email_Newsletter-\\_-Developer_Ed%2BTech-\\_-WW_WW-\\_-SkillsNetwork-Courses-IBM-DA0321EN-SkillsNetwork-21426264&cm_mmca1=000026UJ&cm_mmca2=10006555&cm_mmca3=M12345678&cvosrc=email.Newsletter.M12345678&cvo_campaign=000026UJ) gives us the information of astronauts currently on ISS in json format.<br>\nYou can read more about this API at [http://open-notify.org/Open-Notify-API/People-In-Space/](http://open-notify.org/Open-Notify-API/People-In-Space?utm_medium=Exinfluencer&utm_source=Exinfluencer&utm_content=000026UJ&utm_term=10006555&utm_id=NA-SkillsNetwork-Channel-SkillsNetworkCoursesIBMDA0321ENSkillsNetwork21426264-2021-01-01&cm_mmc=Email_Newsletter-\\_-Developer_Ed%2BTech-\\_-WW_WW-\\_-SkillsNetwork-Courses-IBM-DA0321EN-SkillsNetwork-21426264&cm_mmca1=000026UJ&cm_mmca2=10006555&cm_mmca3=M12345678&cvosrc=email.Newsletter.M12345678&cvo_campaign=000026UJ)\n"
        },
        {
            "cell_type": "code",
            "execution_count": 2,
            "metadata": {},
            "outputs": [],
            "source": "import requests # you need this module to make an API call"
        },
        {
            "cell_type": "code",
            "execution_count": 3,
            "metadata": {},
            "outputs": [],
            "source": "api_url = \"http://api.open-notify.org/astros.json\" # this url gives use the astronaut data"
        },
        {
            "cell_type": "code",
            "execution_count": 4,
            "metadata": {},
            "outputs": [],
            "source": "response = requests.get(api_url) # Call the API using the get method and store the\n                                # output of the API call in a variable called response."
        },
        {
            "cell_type": "code",
            "execution_count": 5,
            "metadata": {},
            "outputs": [],
            "source": "if response.ok:             # if all is well() no errors, no network timeouts)\n    data = response.json()  # store the result in json format in a variable called data\n                            # the variable data is of type dictionary."
        },
        {
            "cell_type": "code",
            "execution_count": 6,
            "metadata": {},
            "outputs": [
                {
                    "name": "stdout",
                    "output_type": "stream",
                    "text": "{'message': 'success', 'people': [{'name': 'Mark Vande Hei', 'craft': 'ISS'}, {'name': 'Pyotr Dubrov', 'craft': 'ISS'}, {'name': 'Anton Shkaplerov', 'craft': 'ISS'}, {'name': 'Zhai Zhigang', 'craft': 'Shenzhou 13'}, {'name': 'Wang Yaping', 'craft': 'Shenzhou 13'}, {'name': 'Ye Guangfu', 'craft': 'Shenzhou 13'}, {'name': 'Raja Chari', 'craft': 'ISS'}, {'name': 'Tom Marshburn', 'craft': 'ISS'}, {'name': 'Kayla Barron', 'craft': 'ISS'}, {'name': 'Matthias Maurer', 'craft': 'ISS'}], 'number': 10}\n"
                }
            ],
            "source": "print(data)   # print the data just to check the output or for debugging"
        },
        {
            "cell_type": "markdown",
            "metadata": {},
            "source": "Print the number of astronauts currently on ISS.\n"
        },
        {
            "cell_type": "code",
            "execution_count": 7,
            "metadata": {},
            "outputs": [
                {
                    "name": "stdout",
                    "output_type": "stream",
                    "text": "10\n"
                }
            ],
            "source": "print(data.get('number'))"
        },
        {
            "cell_type": "markdown",
            "metadata": {},
            "source": "Print the names of the astronauts currently on ISS.\n"
        },
        {
            "cell_type": "code",
            "execution_count": 8,
            "metadata": {},
            "outputs": [
                {
                    "name": "stdout",
                    "output_type": "stream",
                    "text": "There are 10 astronauts on ISS\nAnd their names are :\nMark Vande Hei\nPyotr Dubrov\nAnton Shkaplerov\nZhai Zhigang\nWang Yaping\nYe Guangfu\nRaja Chari\nTom Marshburn\nKayla Barron\nMatthias Maurer\n"
                }
            ],
            "source": "astronauts = data.get('people')\nprint(\"There are {} astronauts on ISS\".format(len(astronauts)))\nprint(\"And their names are :\")\nfor astronaut in astronauts:\n    print(astronaut.get('name'))"
        },
        {
            "cell_type": "markdown",
            "metadata": {},
            "source": "Hope the warmup was helpful. Good luck with your next lab!\n"
        },
        {
            "cell_type": "markdown",
            "metadata": {},
            "source": "## Lab: Collect Jobs Data using GitHub Jobs API\n"
        },
        {
            "cell_type": "markdown",
            "metadata": {},
            "source": "### Objective: Determine the number of jobs currently open for various technologies\n"
        },
        {
            "cell_type": "markdown",
            "metadata": {},
            "source": "Collect the number of job postings for the following languages using the API:\n\n*   C\n*   C#\n*   C++\n*   Java\n*   JavaScript\n*   Python\n*   Scala\n*   Oracle\n*   SQL Server\n*   MySQL Server\n*   PostgreSQL\n*   MongoDB\n"
        },
        {
            "cell_type": "code",
            "execution_count": 9,
            "metadata": {},
            "outputs": [],
            "source": "#Import required libraries\nimport pandas as pd"
        },
        {
            "cell_type": "code",
            "execution_count": 10,
            "metadata": {},
            "outputs": [],
            "source": "baseurl = \"https://cf-courses-data.s3.us.cloud-object-storage.appdomain.cloud/IBM-DA0321EN-SkillsNetwork/labs/module%201/datasets/githubposting.json\""
        },
        {
            "cell_type": "code",
            "execution_count": 11,
            "metadata": {},
            "outputs": [],
            "source": "response = requests.get(baseurl)"
        },
        {
            "cell_type": "code",
            "execution_count": 12,
            "metadata": {},
            "outputs": [],
            "source": "if response.ok:            \n    data = response.json()"
        },
        {
            "cell_type": "code",
            "execution_count": 13,
            "metadata": {},
            "outputs": [
                {
                    "name": "stdout",
                    "output_type": "stream",
                    "text": "{'technology': {'0': 'java', '1': 'C', '2': 'C#', '3': 'C++', '4': 'Java', '5': 'JavaScript', '6': 'Python', '7': 'Scala', '8': 'Oracle', '9': 'SQL Server', '10': 'MySQL Server', '11': 'PostgreSQL', '12': 'MongoDB', '13': 'java', '14': 'C', '15': 'C#', '16': 'C++', '17': 'Java', '18': 'JavaScript', '19': 'Python', '20': 'Scala', '21': 'Oracle', '22': 'SQL Server', '23': 'MySQL Server', '24': 'PostgreSQL', '25': 'MongoDB', '26': 'C', '27': 'MySQL Server', '28': 'SQL Server', '29': 'PostgreSQL', '30': 'Java', '31': 'PostgreSQL', '32': 'Java', '33': 'C', '34': 'MongoDB', '35': 'Oracle', '36': 'PostgreSQL', '37': 'MongoDB', '38': 'MySQL Server', '39': 'Java', '40': 'JavaScript', '41': 'Python', '42': 'C', '43': 'MongoDB', '44': 'MySQL Server', '45': 'PostgreSQL', '46': 'Oracle', '47': 'Java', '48': 'JavaScript', '49': 'Java', '50': 'Java', '51': 'MySQL Server', '52': 'C++', '53': 'JavaScript', '54': 'MySQL Server', '55': 'PostgreSQL', '56': 'PostgreSQL', '57': 'Java', '58': 'Java', '59': 'C#', '60': 'Python', '61': 'SQL Server', '62': 'MySQL Server', '63': 'Java', '64': 'MySQL Server', '65': 'PostgreSQL', '66': 'Java', '67': 'C#', '68': 'PostgreSQL', '69': 'Oracle', '70': 'C#', '71': 'C#', '72': 'PostgreSQL', '73': 'Java', '74': 'JavaScript', '75': 'Java', '76': 'Oracle', '77': 'MySQL Server', '78': 'MySQL Server', '79': 'MySQL Server', '80': 'Java', '81': 'Java', '82': 'Oracle', '83': 'JavaScript', '84': 'PostgreSQL', '85': 'MongoDB', '86': 'Java', '87': 'MongoDB', '88': 'JavaScript', '89': 'C++', '90': 'Oracle', '91': 'MongoDB', '92': 'SQL Server', '93': 'C++', '94': 'Oracle', '95': 'JavaScript', '96': 'Java', '97': 'java', '98': 'MongoDB', '99': 'C#', '100': 'MySQL Server', '101': 'PostgreSQL', '102': 'MongoDB', '103': 'java', '104': 'Python', '105': 'Java', '106': 'MongoDB', '107': 'MongoDB', '108': 'C++', '109': 'MySQL Server', '110': 'Java', '111': 'PostgreSQL', '112': 'Python', '113': 'java', '114': 'SQL Server', '115': 'Java', '116': 'Python', '117': 'JavaScript', '118': 'PostgreSQL', '119': 'PostgreSQL', '120': 'C++', '121': 'MySQL Server', '122': 'MongoDB', '123': 'C#', '124': 'PostgreSQL', '125': 'PostgreSQL', '126': 'C++', '127': 'Oracle', '128': 'Python', '129': 'JavaScript', '130': 'MongoDB', '131': 'PostgreSQL', '132': 'MySQL Server', '133': 'C#', '134': 'MySQL Server', '135': 'PostgreSQL', '136': 'PostgreSQL', '137': 'MySQL Server', '138': 'Scala', '139': 'C++', '140': 'MongoDB', '141': 'C++', '142': 'MongoDB', '143': 'Java', '144': 'Java', '145': 'java', '146': 'SQL Server', '147': 'Python', '148': 'java', '149': 'SQL Server', '150': 'JavaScript', '151': 'JavaScript', '152': 'C#', '153': 'JavaScript', '154': 'Java', '155': 'PostgreSQL', '156': 'PostgreSQL', '157': 'Java', '158': 'C++', '159': 'JavaScript', '160': 'Java', '161': 'Oracle', '162': 'Python', '163': 'Oracle', '164': 'java', '165': 'C#', '166': 'Java', '167': 'PostgreSQL', '168': 'PostgreSQL', '169': 'Python', '170': 'Java', '171': 'MySQL Server', '172': 'C#', '173': 'Python', '174': 'Python', '175': 'SQL Server', '176': 'MongoDB', '177': 'Java', '178': 'C#', '179': 'MongoDB', '180': 'Oracle', '181': 'Python', '182': 'Scala', '183': 'PostgreSQL', '184': 'Scala', '185': 'C#', '186': 'Java', '187': 'Java', '188': 'C++', '189': 'Python', '190': 'MongoDB', '191': 'Java', '192': 'MongoDB', '193': 'C++', '194': 'PostgreSQL', '195': 'Java', '196': 'C#', '197': 'MySQL Server', '198': 'Oracle', '199': 'Java', '200': 'Java', '201': 'MongoDB', '202': 'Python', '203': 'SQL Server', '204': 'C', '205': 'Oracle', '206': 'Python', '207': 'Python', '208': 'MongoDB', '209': 'Scala', '210': 'PostgreSQL', '211': 'Oracle', '212': 'Java', '213': 'MongoDB', '214': 'C', '215': 'MongoDB', '216': 'Oracle', '217': 'Python', '218': 'Java', '219': 'MySQL Server', '220': 'JavaScript', '221': 'PostgreSQL', '222': 'Oracle', '223': 'Python', '224': 'Python', '225': 'JavaScript', '226': 'MongoDB', '227': 'Java', '228': 'MySQL Server', '229': 'JavaScript', '230': 'Java', '231': 'Oracle', '232': 'JavaScript', '233': 'PostgreSQL', '234': 'MySQL Server', '235': 'MySQL Server', '236': 'Oracle', '237': 'Scala', '238': 'Java', '239': 'C#', '240': 'Oracle', '241': 'Oracle', '242': 'java', '243': 'PostgreSQL', '244': 'MongoDB', '245': 'PostgreSQL', '246': 'MongoDB', '247': 'Scala', '248': 'MySQL Server', '249': 'Oracle', '250': 'Java', '251': 'C#', '252': 'PostgreSQL', '253': 'MongoDB', '254': 'Scala', '255': 'JavaScript'}, 'number of job posting': {'0': '1', '1': '10', '2': '1', '3': '1', '4': '2', '5': '4', '6': '1', '7': '5', '8': '0', '9': '1', '10': '0', '11': '1', '12': '0', '13': '1', '14': '20', '15': '2', '16': '3', '17': '2', '18': '3', '19': '2', '20': '7', '21': '0', '22': '1', '23': '0', '24': '1', '25': '0', '26': '26', '27': '0', '28': '1', '29': '0', '30': '2', '31': '0', '32': '2', '33': '15', '34': '0', '35': '1', '36': '0', '37': '1', '38': '0', '39': '1', '40': '2', '41': '5', '42': '40', '43': '1', '44': '0', '45': '0', '46': '1', '47': '6', '48': '4', '49': '8', '50': '1', '51': '0', '52': '2', '53': '4', '54': '0', '55': '1', '56': '1', '57': '2', '58': '3', '59': '1', '60': '2', '61': '2', '62': '1', '63': '1', '64': '1', '65': '0', '66': '1', '67': '0', '68': '0', '69': '1', '70': '1', '71': '0', '72': '0', '73': '2', '74': '2', '75': '1', '76': '0', '77': '1', '78': '0', '79': '0', '80': '2', '81': '3', '82': '0', '83': '5', '84': '0', '85': '2', '86': '2', '87': '2', '88': '3', '89': '2', '90': '0', '91': '1', '92': '1', '93': '2', '94': '0', '95': '2', '96': '2', '97': '1', '98': '1', '99': '0', '100': '0', '101': '0', '102': '1', '103': '2', '104': '7', '105': '1', '106': '1', '107': '0', '108': '2', '109': '1', '110': '2', '111': '0', '112': '2', '113': '1', '114': '2', '115': '2', '116': '2', '117': '3', '118': '0', '119': '1', '120': '2', '121': '0', '122': '1', '123': '1', '124': '1', '125': '1', '126': '2', '127': '0', '128': '1', '129': '3', '130': '0', '131': '0', '132': '0', '133': '1', '134': '1', '135': '0', '136': '0', '137': '0', '138': '5', '139': '1', '140': '0', '141': '2', '142': '0', '143': '1', '144': '2', '145': '1', '146': '4', '147': '1', '148': '1', '149': '2', '150': '5', '151': '2', '152': '1', '153': '3', '154': '1', '155': '1', '156': '1', '157': '2', '158': '1', '159': '3', '160': '3', '161': '0', '162': '2', '163': '0', '164': '0', '165': '1', '166': '1', '167': '1', '168': '0', '169': '3', '170': '2', '171': '0', '172': '1', '173': '3', '174': '1', '175': '1', '176': '1', '177': '2', '178': '1', '179': '1', '180': '1', '181': '3', '182': '6', '183': '0', '184': '4', '185': '0', '186': '1', '187': '2', '188': '2', '189': '2', '190': '1', '191': '1', '192': '0', '193': '2', '194': '1', '195': '1', '196': '1', '197': '0', '198': '1', '199': '1', '200': '1', '201': '0', '202': '2', '203': '1', '204': '20', '205': '0', '206': '1', '207': '4', '208': '0', '209': '7', '210': '1', '211': '0', '212': '1', '213': '0', '214': '53', '215': '0', '216': '0', '217': '3', '218': '6', '219': '0', '220': '6', '221': '1', '222': '0', '223': '2', '224': '2', '225': '5', '226': '1', '227': '3', '228': '1', '229': '1', '230': '1', '231': '1', '232': '2', '233': '1', '234': '0', '235': '0', '236': '1', '237': '3', '238': '2', '239': '1', '240': '1', '241': '0', '242': '1', '243': '1', '244': '1', '245': '1', '246': '1', '247': '8', '248': '1', '249': '0', '250': '1', '251': '1', '252': '1', '253': '1', '254': '2', '255': '3'}}\n"
                }
            ],
            "source": "print(data)"
        },
        {
            "cell_type": "code",
            "execution_count": 14,
            "metadata": {},
            "outputs": [],
            "source": "technologies = data.get('technology')\nnumberofposting = data.get('number of job posting')"
        },
        {
            "cell_type": "code",
            "execution_count": 15,
            "metadata": {},
            "outputs": [],
            "source": "df = pd.DataFrame([\"Technologies\", \"Number of Jobs\"])"
        },
        {
            "cell_type": "code",
            "execution_count": 16,
            "metadata": {},
            "outputs": [
                {
                    "data": {
                        "text/plain": "'C'"
                    },
                    "execution_count": 16,
                    "metadata": {},
                    "output_type": "execute_result"
                }
            ],
            "source": "a = \"c\"\nb=a.upper()\nb"
        },
        {
            "cell_type": "code",
            "execution_count": 17,
            "metadata": {},
            "outputs": [],
            "source": "for i in range(len(technologies)):\n    df = df.append({\"Technologies\":technologies[str(i)].upper(), \"Number of Jobs\":int(numberofposting[str(i)])}, ignore_index=True)"
        },
        {
            "cell_type": "code",
            "execution_count": 18,
            "metadata": {},
            "outputs": [],
            "source": "df = df.drop(0,axis=1)"
        },
        {
            "cell_type": "code",
            "execution_count": 19,
            "metadata": {},
            "outputs": [
                {
                    "data": {
                        "text/html": "<div>\n<style scoped>\n    .dataframe tbody tr th:only-of-type {\n        vertical-align: middle;\n    }\n\n    .dataframe tbody tr th {\n        vertical-align: top;\n    }\n\n    .dataframe thead th {\n        text-align: right;\n    }\n</style>\n<table border=\"1\" class=\"dataframe\">\n  <thead>\n    <tr style=\"text-align: right;\">\n      <th></th>\n      <th>Number of Jobs</th>\n    </tr>\n    <tr>\n      <th>Technologies</th>\n      <th></th>\n    </tr>\n  </thead>\n  <tbody>\n    <tr>\n      <th>C</th>\n      <td>184.0</td>\n    </tr>\n    <tr>\n      <th>C#</th>\n      <td>14.0</td>\n    </tr>\n    <tr>\n      <th>C++</th>\n      <td>24.0</td>\n    </tr>\n    <tr>\n      <th>JAVA</th>\n      <td>92.0</td>\n    </tr>\n    <tr>\n      <th>JAVASCRIPT</th>\n      <td>65.0</td>\n    </tr>\n    <tr>\n      <th>MONGODB</th>\n      <td>18.0</td>\n    </tr>\n    <tr>\n      <th>MYSQL SERVER</th>\n      <td>7.0</td>\n    </tr>\n    <tr>\n      <th>ORACLE</th>\n      <td>8.0</td>\n    </tr>\n    <tr>\n      <th>POSTGRESQL</th>\n      <td>17.0</td>\n    </tr>\n    <tr>\n      <th>PYTHON</th>\n      <td>51.0</td>\n    </tr>\n    <tr>\n      <th>SCALA</th>\n      <td>47.0</td>\n    </tr>\n    <tr>\n      <th>SQL SERVER</th>\n      <td>16.0</td>\n    </tr>\n  </tbody>\n</table>\n</div>",
                        "text/plain": "              Number of Jobs\nTechnologies                \nC                      184.0\nC#                      14.0\nC++                     24.0\nJAVA                    92.0\nJAVASCRIPT              65.0\nMONGODB                 18.0\nMYSQL SERVER             7.0\nORACLE                   8.0\nPOSTGRESQL              17.0\nPYTHON                  51.0\nSCALA                   47.0\nSQL SERVER              16.0"
                    },
                    "execution_count": 19,
                    "metadata": {},
                    "output_type": "execute_result"
                }
            ],
            "source": "df.dropna(inplace=True)\nfinal_data = df.groupby([\"Technologies\"]).sum()\nfinal_data.rename(columns={0:\"Technologies\", 1:\"Number of Jobs\"})\n#final_data.reset_index(inplace=True)"
        },
        {
            "cell_type": "code",
            "execution_count": 20,
            "metadata": {},
            "outputs": [
                {
                    "data": {
                        "text/plain": "184"
                    },
                    "execution_count": 20,
                    "metadata": {},
                    "output_type": "execute_result"
                }
            ],
            "source": "int(final_data.loc[\"C\"])"
        },
        {
            "cell_type": "markdown",
            "metadata": {},
            "source": "Write a function to get the number of jobs for the given technology.\n"
        },
        {
            "cell_type": "code",
            "execution_count": 21,
            "metadata": {},
            "outputs": [],
            "source": "def get_number_of_jobs(technology):\n    \n    #your code goes here\n    number_of_jobs = int(final_data.loc[technology.upper()])\n    return technology,number_of_jobs"
        },
        {
            "cell_type": "markdown",
            "metadata": {},
            "source": "Call the function for Python and check if it is working.\n"
        },
        {
            "cell_type": "code",
            "execution_count": 22,
            "metadata": {},
            "outputs": [
                {
                    "name": "stdout",
                    "output_type": "stream",
                    "text": "('python', 51)\n"
                }
            ],
            "source": "print(get_number_of_jobs('python'))"
        },
        {
            "cell_type": "markdown",
            "metadata": {},
            "source": "### Store the results in an excel file\n"
        },
        {
            "cell_type": "markdown",
            "metadata": {},
            "source": "Call the API for all the given technologies above and write the results in an excel spreadsheet.\n"
        },
        {
            "cell_type": "markdown",
            "metadata": {},
            "source": "If you do not know how create excel file using python, double click here for **hints**.\n\n<!--\n\nfrom openpyxl import Workbook        # import Workbook class from module openpyxl\nwb=Workbook()                        # create a workbook object\nws=wb.active                         # use the active worksheet\nws.append(['Country','Continent'])   # add a row with two columns 'Country' and 'Continent'\nws.append(['Eygpt','Africa'])        # add a row with two columns 'Egypt' and 'Africa'\nws.append(['India','Asia'])          # add another row\nws.append(['France','Europe'])       # add another row\nwb.save(\"countries.xlsx\")            # save the workbook into a file called countries.xlsx\n\n\n-->\n"
        },
        {
            "cell_type": "markdown",
            "metadata": {},
            "source": "Create a python list of all technologies for which you need to find the number of jobs postings.\n"
        },
        {
            "cell_type": "code",
            "execution_count": 23,
            "metadata": {},
            "outputs": [
                {
                    "data": {
                        "text/plain": "['C',\n 'C#',\n 'C++',\n 'JAVA',\n 'JAVASCRIPT',\n 'MONGODB',\n 'MYSQL SERVER',\n 'ORACLE',\n 'POSTGRESQL',\n 'PYTHON',\n 'SCALA',\n 'SQL SERVER']"
                    },
                    "execution_count": 23,
                    "metadata": {},
                    "output_type": "execute_result"
                }
            ],
            "source": "#your code goes here\ntechs = list(final_data.index)\ntechs"
        },
        {
            "cell_type": "markdown",
            "metadata": {},
            "source": "Import libraries required to create excel spreadsheet\n"
        },
        {
            "cell_type": "code",
            "execution_count": 24,
            "metadata": {},
            "outputs": [],
            "source": "import pandas as pd\n"
        },
        {
            "cell_type": "markdown",
            "metadata": {},
            "source": "Create a workbook and select the active worksheet\n"
        },
        {
            "cell_type": "code",
            "execution_count": 25,
            "metadata": {},
            "outputs": [],
            "source": "final_data.to_excel(\"final_data.xlsx\")"
        },
        {
            "cell_type": "markdown",
            "metadata": {},
            "source": "Find the number of jobs postings for each of the technology in the above list.\nWrite the technology name and the number of jobs postings into the excel spreadsheet.\n"
        },
        {
            "cell_type": "code",
            "execution_count": 26,
            "metadata": {},
            "outputs": [
                {
                    "data": {
                        "text/html": "<div>\n<style scoped>\n    .dataframe tbody tr th:only-of-type {\n        vertical-align: middle;\n    }\n\n    .dataframe tbody tr th {\n        vertical-align: top;\n    }\n\n    .dataframe thead th {\n        text-align: right;\n    }\n</style>\n<table border=\"1\" class=\"dataframe\">\n  <thead>\n    <tr style=\"text-align: right;\">\n      <th></th>\n      <th>Technologies</th>\n      <th>Number of Jobs</th>\n    </tr>\n  </thead>\n  <tbody>\n    <tr>\n      <th>0</th>\n      <td>C</td>\n      <td>184</td>\n    </tr>\n    <tr>\n      <th>1</th>\n      <td>C#</td>\n      <td>14</td>\n    </tr>\n    <tr>\n      <th>2</th>\n      <td>C++</td>\n      <td>24</td>\n    </tr>\n    <tr>\n      <th>3</th>\n      <td>JAVA</td>\n      <td>92</td>\n    </tr>\n    <tr>\n      <th>4</th>\n      <td>JAVASCRIPT</td>\n      <td>65</td>\n    </tr>\n    <tr>\n      <th>5</th>\n      <td>MONGODB</td>\n      <td>18</td>\n    </tr>\n    <tr>\n      <th>6</th>\n      <td>MYSQL SERVER</td>\n      <td>7</td>\n    </tr>\n    <tr>\n      <th>7</th>\n      <td>ORACLE</td>\n      <td>8</td>\n    </tr>\n    <tr>\n      <th>8</th>\n      <td>POSTGRESQL</td>\n      <td>17</td>\n    </tr>\n    <tr>\n      <th>9</th>\n      <td>PYTHON</td>\n      <td>51</td>\n    </tr>\n    <tr>\n      <th>10</th>\n      <td>SCALA</td>\n      <td>47</td>\n    </tr>\n    <tr>\n      <th>11</th>\n      <td>SQL SERVER</td>\n      <td>16</td>\n    </tr>\n  </tbody>\n</table>\n</div>",
                        "text/plain": "    Technologies  Number of Jobs\n0              C             184\n1             C#              14\n2            C++              24\n3           JAVA              92\n4     JAVASCRIPT              65\n5        MONGODB              18\n6   MYSQL SERVER               7\n7         ORACLE               8\n8     POSTGRESQL              17\n9         PYTHON              51\n10         SCALA              47\n11    SQL SERVER              16"
                    },
                    "execution_count": 26,
                    "metadata": {},
                    "output_type": "execute_result"
                }
            ],
            "source": "read_excel = pd.read_excel(\"final_data.xlsx\")\nread_excel"
        },
        {
            "cell_type": "markdown",
            "metadata": {},
            "source": "Save into an excel spreadsheet named 'github-job-postings.xlsx'.\n"
        },
        {
            "cell_type": "code",
            "execution_count": 27,
            "metadata": {},
            "outputs": [],
            "source": "import os\nos.rename(r'final_data.xlsx',r'github-job-postings.xlsx')"
        },
        {
            "cell_type": "code",
            "execution_count": 28,
            "metadata": {},
            "outputs": [
                {
                    "name": "stdout",
                    "output_type": "stream",
                    "text": "    Technologies  Number of Jobs\n0              C             184\n1             C#              14\n2            C++              24\n3           JAVA              92\n4     JAVASCRIPT              65\n5        MONGODB              18\n6   MYSQL SERVER               7\n7         ORACLE               8\n8     POSTGRESQL              17\n9         PYTHON              51\n10         SCALA              47\n11    SQL SERVER              16\n"
                }
            ],
            "source": "print(pd.read_excel('github-job-postings.xlsx'))"
        },
        {
            "cell_type": "markdown",
            "metadata": {},
            "source": "## Authors\n"
        },
        {
            "cell_type": "markdown",
            "metadata": {},
            "source": "Ramesh Sannareddy\n"
        },
        {
            "cell_type": "markdown",
            "metadata": {},
            "source": "### Other Contributors\n"
        },
        {
            "cell_type": "markdown",
            "metadata": {},
            "source": "Rav Ahuja\n"
        },
        {
            "cell_type": "markdown",
            "metadata": {},
            "source": "## Change Log\n"
        },
        {
            "cell_type": "markdown",
            "metadata": {},
            "source": "| Date (YYYY-MM-DD) | Version | Changed By        | Change Description                 |\n| ----------------- | ------- | ----------------- | ---------------------------------- |\n| 2021-6-25         | 0.2     | Malika            | Updated GitHub job json link       |\n| 2020-10-17        | 0.1     | Ramesh Sannareddy | Created initial version of the lab |\n"
        },
        {
            "cell_type": "markdown",
            "metadata": {},
            "source": "Copyright \u00a9 2020 IBM Corporation. This notebook and its source code are released under the terms of the [MIT License](https://cognitiveclass.ai/mit-license?utm_medium=Exinfluencer&utm_source=Exinfluencer&utm_content=000026UJ&utm_term=10006555&utm_id=NA-SkillsNetwork-Channel-SkillsNetworkCoursesIBMDA0321ENSkillsNetwork21426264-2021-01-01&cm_mmc=Email_Newsletter-\\_-Developer_Ed%2BTech-\\_-WW_WW-\\_-SkillsNetwork-Courses-IBM-DA0321EN-SkillsNetwork-21426264&cm_mmca1=000026UJ&cm_mmca2=10006555&cm_mmca3=M12345678&cvosrc=email.Newsletter.M12345678&cvo_campaign=000026UJ).\n"
        }
    ],
    "metadata": {
        "kernelspec": {
            "display_name": "Python 3.8",
            "language": "python",
            "name": "python3"
        },
        "language_info": {
            "codemirror_mode": {
                "name": "ipython",
                "version": 3
            },
            "file_extension": ".py",
            "mimetype": "text/x-python",
            "name": "python",
            "nbconvert_exporter": "python",
            "pygments_lexer": "ipython3",
            "version": "3.8.12"
        }
    },
    "nbformat": 4,
    "nbformat_minor": 4
}