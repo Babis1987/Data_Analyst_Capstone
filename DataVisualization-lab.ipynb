{
    "cells": [
        {
            "cell_type": "markdown",
            "metadata": {},
            "source": "<center>\n    <img src=\"https://gitlab.com/ibm/skills-network/courses/placeholder101/-/raw/master/labs/module%201/images/IDSNlogo.png\" width=\"300\" alt=\"cognitiveclass.ai logo\"  />\n</center>\n"
        },
        {
            "cell_type": "markdown",
            "metadata": {},
            "source": "# **Data Visualization Lab**\n"
        },
        {
            "cell_type": "markdown",
            "metadata": {},
            "source": "Estimated time needed: **45 to 60** minutes\n"
        },
        {
            "cell_type": "markdown",
            "metadata": {},
            "source": "In this assignment you will be focusing on the visualization of data.\n\nThe data set will be presented to you in the form of a RDBMS.\n\nYou will have to use SQL queries to extract the data.\n"
        },
        {
            "cell_type": "markdown",
            "metadata": {},
            "source": "## Objectives\n"
        },
        {
            "cell_type": "markdown",
            "metadata": {},
            "source": "In this lab you will perform the following:\n"
        },
        {
            "cell_type": "markdown",
            "metadata": {},
            "source": "*   Visualize the distribution of data.\n\n*   Visualize the relationship between two features.\n\n*   Visualize composition of data.\n\n*   Visualize comparison of data.\n"
        },
        {
            "cell_type": "markdown",
            "metadata": {},
            "source": "<hr>\n"
        },
        {
            "cell_type": "markdown",
            "metadata": {},
            "source": "## Demo: How to work with database\n"
        },
        {
            "cell_type": "markdown",
            "metadata": {},
            "source": "Download database file.\n"
        },
        {
            "cell_type": "code",
            "execution_count": 1,
            "metadata": {},
            "outputs": [
                {
                    "name": "stdout",
                    "output_type": "stream",
                    "text": "--2021-11-25 23:24:18--  https://cf-courses-data.s3.us.cloud-object-storage.appdomain.cloud/IBM-DA0321EN-SkillsNetwork/LargeData/m4_survey_data.sqlite\nResolving cf-courses-data.s3.us.cloud-object-storage.appdomain.cloud (cf-courses-data.s3.us.cloud-object-storage.appdomain.cloud)... 169.63.118.104\nConnecting to cf-courses-data.s3.us.cloud-object-storage.appdomain.cloud (cf-courses-data.s3.us.cloud-object-storage.appdomain.cloud)|169.63.118.104|:443... connected.\nHTTP request sent, awaiting response... 200 OK\nLength: 36679680 (35M) [application/octet-stream]\nSaving to: \u2018m4_survey_data.sqlite.1\u2019\n\nm4_survey_data.sqli 100%[===================>]  34.98M  22.9MB/s    in 1.5s    \n\n2021-11-25 23:24:21 (22.9 MB/s) - \u2018m4_survey_data.sqlite.1\u2019 saved [36679680/36679680]\n\n"
                }
            ],
            "source": "!wget https://cf-courses-data.s3.us.cloud-object-storage.appdomain.cloud/IBM-DA0321EN-SkillsNetwork/LargeData/m4_survey_data.sqlite"
        },
        {
            "cell_type": "markdown",
            "metadata": {},
            "source": "Connect to the database.\n"
        },
        {
            "cell_type": "code",
            "execution_count": 2,
            "metadata": {},
            "outputs": [],
            "source": "import sqlite3\nconn = sqlite3.connect(\"m4_survey_data.sqlite\") # open a database connection"
        },
        {
            "cell_type": "markdown",
            "metadata": {},
            "source": "Import pandas module.\n"
        },
        {
            "cell_type": "code",
            "execution_count": 3,
            "metadata": {},
            "outputs": [],
            "source": "import pandas as pd"
        },
        {
            "cell_type": "markdown",
            "metadata": {},
            "source": "## Demo: How to run an sql query\n"
        },
        {
            "cell_type": "code",
            "execution_count": 4,
            "metadata": {},
            "outputs": [
                {
                    "data": {
                        "text/html": "<div>\n<style scoped>\n    .dataframe tbody tr th:only-of-type {\n        vertical-align: middle;\n    }\n\n    .dataframe tbody tr th {\n        vertical-align: top;\n    }\n\n    .dataframe thead th {\n        text-align: right;\n    }\n</style>\n<table border=\"1\" class=\"dataframe\">\n  <thead>\n    <tr style=\"text-align: right;\">\n      <th></th>\n      <th>COUNT(*)</th>\n    </tr>\n  </thead>\n  <tbody>\n    <tr>\n      <th>0</th>\n      <td>11398</td>\n    </tr>\n  </tbody>\n</table>\n</div>",
                        "text/plain": "   COUNT(*)\n0     11398"
                    },
                    "execution_count": 4,
                    "metadata": {},
                    "output_type": "execute_result"
                }
            ],
            "source": "# print how many rows are there in the table named 'master'\nQUERY = \"\"\"\nSELECT COUNT(*)\nFROM master\n\"\"\"\n\n# the read_sql_query runs the sql query and returns the data as a dataframe\ndf = pd.read_sql_query(QUERY,conn)\ndf.head()"
        },
        {
            "cell_type": "markdown",
            "metadata": {},
            "source": "## Demo: How to list all tables\n"
        },
        {
            "cell_type": "code",
            "execution_count": 5,
            "metadata": {
                "scrolled": true
            },
            "outputs": [
                {
                    "data": {
                        "text/html": "<div>\n<style scoped>\n    .dataframe tbody tr th:only-of-type {\n        vertical-align: middle;\n    }\n\n    .dataframe tbody tr th {\n        vertical-align: top;\n    }\n\n    .dataframe thead th {\n        text-align: right;\n    }\n</style>\n<table border=\"1\" class=\"dataframe\">\n  <thead>\n    <tr style=\"text-align: right;\">\n      <th></th>\n      <th>Table_Name</th>\n    </tr>\n  </thead>\n  <tbody>\n    <tr>\n      <th>0</th>\n      <td>EduOther</td>\n    </tr>\n    <tr>\n      <th>1</th>\n      <td>DevType</td>\n    </tr>\n    <tr>\n      <th>2</th>\n      <td>LastInt</td>\n    </tr>\n    <tr>\n      <th>3</th>\n      <td>JobFactors</td>\n    </tr>\n    <tr>\n      <th>4</th>\n      <td>WorkPlan</td>\n    </tr>\n    <tr>\n      <th>5</th>\n      <td>WorkChallenge</td>\n    </tr>\n    <tr>\n      <th>6</th>\n      <td>LanguageWorkedWith</td>\n    </tr>\n    <tr>\n      <th>7</th>\n      <td>LanguageDesireNextYear</td>\n    </tr>\n    <tr>\n      <th>8</th>\n      <td>DatabaseWorkedWith</td>\n    </tr>\n    <tr>\n      <th>9</th>\n      <td>DatabaseDesireNextYear</td>\n    </tr>\n    <tr>\n      <th>10</th>\n      <td>PlatformWorkedWith</td>\n    </tr>\n    <tr>\n      <th>11</th>\n      <td>PlatformDesireNextYear</td>\n    </tr>\n    <tr>\n      <th>12</th>\n      <td>WebFrameWorkedWith</td>\n    </tr>\n    <tr>\n      <th>13</th>\n      <td>WebFrameDesireNextYear</td>\n    </tr>\n    <tr>\n      <th>14</th>\n      <td>MiscTechWorkedWith</td>\n    </tr>\n    <tr>\n      <th>15</th>\n      <td>MiscTechDesireNextYear</td>\n    </tr>\n    <tr>\n      <th>16</th>\n      <td>DevEnviron</td>\n    </tr>\n    <tr>\n      <th>17</th>\n      <td>Containers</td>\n    </tr>\n    <tr>\n      <th>18</th>\n      <td>SOVisitTo</td>\n    </tr>\n    <tr>\n      <th>19</th>\n      <td>SONewContent</td>\n    </tr>\n    <tr>\n      <th>20</th>\n      <td>Gender</td>\n    </tr>\n    <tr>\n      <th>21</th>\n      <td>Sexuality</td>\n    </tr>\n    <tr>\n      <th>22</th>\n      <td>Ethnicity</td>\n    </tr>\n    <tr>\n      <th>23</th>\n      <td>master</td>\n    </tr>\n  </tbody>\n</table>\n</div>",
                        "text/plain": "                Table_Name\n0                 EduOther\n1                  DevType\n2                  LastInt\n3               JobFactors\n4                 WorkPlan\n5            WorkChallenge\n6       LanguageWorkedWith\n7   LanguageDesireNextYear\n8       DatabaseWorkedWith\n9   DatabaseDesireNextYear\n10      PlatformWorkedWith\n11  PlatformDesireNextYear\n12      WebFrameWorkedWith\n13  WebFrameDesireNextYear\n14      MiscTechWorkedWith\n15  MiscTechDesireNextYear\n16              DevEnviron\n17              Containers\n18               SOVisitTo\n19            SONewContent\n20                  Gender\n21               Sexuality\n22               Ethnicity\n23                  master"
                    },
                    "execution_count": 5,
                    "metadata": {},
                    "output_type": "execute_result"
                }
            ],
            "source": "# print all the tables names in the database\nQUERY = \"\"\"\nSELECT name as Table_Name FROM\nsqlite_master WHERE\ntype = 'table'\n\"\"\"\n# the read_sql_query runs the sql query and returns the data as a dataframe\npd.read_sql_query(QUERY,conn)\n"
        },
        {
            "cell_type": "markdown",
            "metadata": {},
            "source": "## Demo: How to run a group by query\n"
        },
        {
            "cell_type": "code",
            "execution_count": null,
            "metadata": {},
            "outputs": [],
            "source": "QUERY = \"\"\"\nSELECT Age,COUNT(*) as count\nFROM master\ngroup by age\norder by age\n\"\"\"\npd.read_sql_query(QUERY,conn)"
        },
        {
            "cell_type": "markdown",
            "metadata": {},
            "source": "## Demo: How to describe a table\n"
        },
        {
            "cell_type": "code",
            "execution_count": null,
            "metadata": {},
            "outputs": [],
            "source": "table_name = 'master'  # the table you wish to describe\n\nQUERY = \"\"\"\nSELECT sql FROM sqlite_master\nWHERE name= '{}'\n\"\"\".format(table_name)\n\ndf = pd.read_sql_query(QUERY,conn)\nprint(df.iat[0,0])"
        },
        {
            "cell_type": "markdown",
            "metadata": {},
            "source": "# Hands-on Lab\n"
        },
        {
            "cell_type": "markdown",
            "metadata": {},
            "source": "## Visualizing distribution of data\n"
        },
        {
            "cell_type": "markdown",
            "metadata": {},
            "source": "### Histograms\n"
        },
        {
            "cell_type": "markdown",
            "metadata": {},
            "source": "Plot a histogram of `ConvertedComp.`\n"
        },
        {
            "cell_type": "code",
            "execution_count": null,
            "metadata": {},
            "outputs": [],
            "source": "# your code goes here\n"
        },
        {
            "cell_type": "markdown",
            "metadata": {},
            "source": "### Box Plots\n"
        },
        {
            "cell_type": "markdown",
            "metadata": {},
            "source": "Plot a box plot of `Age.`\n"
        },
        {
            "cell_type": "code",
            "execution_count": null,
            "metadata": {},
            "outputs": [],
            "source": "# your code goes here\n\n"
        },
        {
            "cell_type": "markdown",
            "metadata": {},
            "source": "## Visualizing relationships in data\n"
        },
        {
            "cell_type": "markdown",
            "metadata": {},
            "source": "### Scatter Plots\n"
        },
        {
            "cell_type": "markdown",
            "metadata": {},
            "source": "Create a scatter plot of `Age` and `WorkWeekHrs.`\n"
        },
        {
            "cell_type": "code",
            "execution_count": null,
            "metadata": {},
            "outputs": [],
            "source": "# your code goes here\n\n"
        },
        {
            "cell_type": "markdown",
            "metadata": {},
            "source": "### Bubble Plots\n"
        },
        {
            "cell_type": "markdown",
            "metadata": {},
            "source": "Create a bubble plot of `WorkWeekHrs` and `CodeRevHrs`, use `Age` column as bubble size.\n"
        },
        {
            "cell_type": "code",
            "execution_count": null,
            "metadata": {},
            "outputs": [],
            "source": "# your code goes here\n\n"
        },
        {
            "cell_type": "markdown",
            "metadata": {},
            "source": "## Visualizing composition of data\n"
        },
        {
            "cell_type": "markdown",
            "metadata": {},
            "source": "### Pie Charts\n"
        },
        {
            "cell_type": "markdown",
            "metadata": {},
            "source": "Create a pie chart of the top 5 databases that respondents wish to learn next year. Label the pie chart with database names. Display percentages of each database on the pie chart.\n"
        },
        {
            "cell_type": "code",
            "execution_count": null,
            "metadata": {},
            "outputs": [],
            "source": "# your code goes here\n\n"
        },
        {
            "cell_type": "markdown",
            "metadata": {},
            "source": "### Stacked Charts\n"
        },
        {
            "cell_type": "markdown",
            "metadata": {},
            "source": "Create a stacked chart of median `WorkWeekHrs` and `CodeRevHrs` for the age group 30 to 35.\n"
        },
        {
            "cell_type": "code",
            "execution_count": null,
            "metadata": {},
            "outputs": [],
            "source": "# your code goes here\n\n"
        },
        {
            "cell_type": "markdown",
            "metadata": {},
            "source": "## Visualizing comparison of data\n"
        },
        {
            "cell_type": "markdown",
            "metadata": {},
            "source": "### Line Chart\n"
        },
        {
            "cell_type": "markdown",
            "metadata": {},
            "source": "Plot the median `ConvertedComp` for all ages from 45 to 60.\n"
        },
        {
            "cell_type": "code",
            "execution_count": null,
            "metadata": {},
            "outputs": [],
            "source": "# your code goes here\n\n"
        },
        {
            "cell_type": "markdown",
            "metadata": {},
            "source": "### Bar Chart\n"
        },
        {
            "cell_type": "markdown",
            "metadata": {},
            "source": "Create a horizontal bar chart using column `MainBranch.`\n"
        },
        {
            "cell_type": "code",
            "execution_count": null,
            "metadata": {},
            "outputs": [],
            "source": "# your code goes here\n\n"
        },
        {
            "cell_type": "markdown",
            "metadata": {},
            "source": "Close the database connection.\n"
        },
        {
            "cell_type": "code",
            "execution_count": null,
            "metadata": {},
            "outputs": [],
            "source": "conn.close()"
        },
        {
            "cell_type": "markdown",
            "metadata": {},
            "source": "## Authors\n"
        },
        {
            "cell_type": "markdown",
            "metadata": {},
            "source": "Ramesh Sannareddy\n"
        },
        {
            "cell_type": "markdown",
            "metadata": {},
            "source": "### Other Contributors\n"
        },
        {
            "cell_type": "markdown",
            "metadata": {},
            "source": "Rav Ahuja\n"
        },
        {
            "cell_type": "markdown",
            "metadata": {},
            "source": "## Change Log\n"
        },
        {
            "cell_type": "markdown",
            "metadata": {},
            "source": "| Date (YYYY-MM-DD) | Version | Changed By        | Change Description                 |\n| ----------------- | ------- | ----------------- | ---------------------------------- |\n| 2020-10-17        | 0.1     | Ramesh Sannareddy | Created initial version of the lab |\n"
        },
        {
            "cell_type": "markdown",
            "metadata": {},
            "source": "Copyright \u00a9 2020 IBM Corporation. This notebook and its source code are released under the terms of the [MIT License](https://cognitiveclass.ai/mit-license?utm_medium=Exinfluencer&utm_source=Exinfluencer&utm_content=000026UJ&utm_term=10006555&utm_id=NA-SkillsNetwork-Channel-SkillsNetworkCoursesIBMDA0321ENSkillsNetwork21426264-2021-01-01&cm_mmc=Email_Newsletter-\\_-Developer_Ed%2BTech-\\_-WW_WW-\\_-SkillsNetwork-Courses-IBM-DA0321EN-SkillsNetwork-21426264&cm_mmca1=000026UJ&cm_mmca2=10006555&cm_mmca3=M12345678&cvosrc=email.Newsletter.M12345678&cvo_campaign=000026UJ).\n"
        }
    ],
    "metadata": {
        "kernelspec": {
            "display_name": "Python 3.8",
            "language": "python",
            "name": "python3"
        },
        "language_info": {
            "codemirror_mode": {
                "name": "ipython",
                "version": 3
            },
            "file_extension": ".py",
            "mimetype": "text/x-python",
            "name": "python",
            "nbconvert_exporter": "python",
            "pygments_lexer": "ipython3",
            "version": "3.8.12"
        }
    },
    "nbformat": 4,
    "nbformat_minor": 4
}