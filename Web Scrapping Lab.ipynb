{
    "cells": [
        {
            "cell_type": "markdown",
            "metadata": {},
            "source": "<center>\n    <img src=\"https://gitlab.com/ibm/skills-network/courses/placeholder101/-/raw/master/labs/module%201/images/IDSNlogo.png\" width=\"300\" alt=\"cognitiveclass.ai logo\"  />\n</center>\n"
        },
        {
            "cell_type": "markdown",
            "metadata": {},
            "source": "# **Hands-on Lab : Web Scraping**\n"
        },
        {
            "cell_type": "markdown",
            "metadata": {},
            "source": "Estimated time needed: **30 to 45** minutes\n"
        },
        {
            "cell_type": "markdown",
            "metadata": {},
            "source": "## Objectives\n"
        },
        {
            "cell_type": "markdown",
            "metadata": {},
            "source": "In this lab you will perform the following:\n"
        },
        {
            "cell_type": "markdown",
            "metadata": {},
            "source": "*   Extract information from a given web site\n*   Write the scraped data into a csv file.\n"
        },
        {
            "cell_type": "markdown",
            "metadata": {},
            "source": "## Extract information from the given web site\n\nYou will extract the data from the below web site: <br>\n"
        },
        {
            "cell_type": "code",
            "execution_count": 1,
            "metadata": {},
            "outputs": [],
            "source": "#this url contains the data you need to scrape\nurl = \"https://cf-courses-data.s3.us.cloud-object-storage.appdomain.cloud/IBM-DA0321EN-SkillsNetwork/labs/datasets/Programming_Languages.html\""
        },
        {
            "cell_type": "markdown",
            "metadata": {},
            "source": "The data you need to scrape is the **name of the programming language** and **average annual salary**.<br> It is a good idea to open the url in your web broswer and study the contents of the web page before you start to scrape.\n"
        },
        {
            "cell_type": "markdown",
            "metadata": {},
            "source": "Import the required libraries\n"
        },
        {
            "cell_type": "code",
            "execution_count": 1,
            "metadata": {},
            "outputs": [
                {
                    "name": "stdout",
                    "output_type": "stream",
                    "text": "Requirement already satisfied: requests in /opt/conda/envs/Python-3.8-main/lib/python3.8/site-packages (2.25.1)\nRequirement already satisfied: idna<3,>=2.5 in /opt/conda/envs/Python-3.8-main/lib/python3.8/site-packages (from requests) (2.8)\nRequirement already satisfied: certifi>=2017.4.17 in /opt/conda/envs/Python-3.8-main/lib/python3.8/site-packages (from requests) (2021.10.8)\nRequirement already satisfied: chardet<5,>=3.0.2 in /opt/conda/envs/Python-3.8-main/lib/python3.8/site-packages (from requests) (3.0.4)\nRequirement already satisfied: urllib3<1.27,>=1.21.1 in /opt/conda/envs/Python-3.8-main/lib/python3.8/site-packages (from requests) (1.26.6)\nCollecting bs4\n  Downloading bs4-0.0.1.tar.gz (1.1 kB)\nRequirement already satisfied: beautifulsoup4 in /opt/conda/envs/Python-3.8-main/lib/python3.8/site-packages (from bs4) (4.9.3)\nRequirement already satisfied: soupsieve>1.2 in /opt/conda/envs/Python-3.8-main/lib/python3.8/site-packages (from beautifulsoup4->bs4) (2.2.1)\nBuilding wheels for collected packages: bs4\n  Building wheel for bs4 (setup.py) ... \u001b[?25ldone\n\u001b[?25h  Created wheel for bs4: filename=bs4-0.0.1-py3-none-any.whl size=1273 sha256=a740803531bb827525b529766b9fb98a41c7d7186d24e64632bb4abd45282f2a\n  Stored in directory: /tmp/wsuser/.cache/pip/wheels/75/78/21/68b124549c9bdc94f822c02fb9aa3578a669843f9767776bca\nSuccessfully built bs4\nInstalling collected packages: bs4\nSuccessfully installed bs4-0.0.1\n"
                }
            ],
            "source": "!pip install requests\n!pip install bs4\n"
        },
        {
            "cell_type": "markdown",
            "metadata": {},
            "source": "Download the webpage at the url\n"
        },
        {
            "cell_type": "code",
            "execution_count": 2,
            "metadata": {},
            "outputs": [],
            "source": "import requests\nfrom bs4 import BeautifulSoup"
        },
        {
            "cell_type": "code",
            "execution_count": 3,
            "metadata": {},
            "outputs": [],
            "source": "data = requests.get(url).text"
        },
        {
            "cell_type": "markdown",
            "metadata": {},
            "source": "Create a soup object\n"
        },
        {
            "cell_type": "code",
            "execution_count": 4,
            "metadata": {},
            "outputs": [],
            "source": "soup = BeautifulSoup(data, \"html.parser\")"
        },
        {
            "cell_type": "markdown",
            "metadata": {},
            "source": "Scrape the `Language name` and `annual average salary`.\n"
        },
        {
            "cell_type": "code",
            "execution_count": 5,
            "metadata": {},
            "outputs": [
                {
                    "data": {
                        "text/plain": "<tr>\n<td>No.</td>\n<td>Language</td>\n<td>Created By</td>\n<td>Average Annual Salary</td>\n<td>Learning Difficulty</td>\n</tr>"
                    },
                    "execution_count": 5,
                    "metadata": {},
                    "output_type": "execute_result"
                }
            ],
            "source": "soup.find(\"table\").find(\"tr\")"
        },
        {
            "cell_type": "code",
            "execution_count": 6,
            "metadata": {},
            "outputs": [],
            "source": "import pandas as pd\n\ntable = soup.find(\"table\")\n\ndata_frame = pd.DataFrame([\"Language\", \"Annual Average Salary\"])\n\nfor row  in table.find_all(\"tr\"):\n    col = row.find_all(\"td\")\n    if(len(col)>0):\n        lang = col[1].text\n        aas = col[3].text\n    \n        data_frame = data_frame.append({\"Language\":lang, \"Annual Average Salary\":aas}, ignore_index = True)"
        },
        {
            "cell_type": "markdown",
            "metadata": {},
            "source": "Save the scrapped data into a file named *popular-languages.csv*\n"
        },
        {
            "cell_type": "code",
            "execution_count": 7,
            "metadata": {},
            "outputs": [
                {
                    "data": {
                        "text/html": "<div>\n<style scoped>\n    .dataframe tbody tr th:only-of-type {\n        vertical-align: middle;\n    }\n\n    .dataframe tbody tr th {\n        vertical-align: top;\n    }\n\n    .dataframe thead th {\n        text-align: right;\n    }\n</style>\n<table border=\"1\" class=\"dataframe\">\n  <thead>\n    <tr style=\"text-align: right;\">\n      <th></th>\n      <th>0</th>\n      <th>Annual Average Salary</th>\n      <th>Language</th>\n    </tr>\n  </thead>\n  <tbody>\n    <tr>\n      <th>0</th>\n      <td>Language</td>\n      <td>NaN</td>\n      <td>NaN</td>\n    </tr>\n    <tr>\n      <th>1</th>\n      <td>Annual Average Salary</td>\n      <td>NaN</td>\n      <td>NaN</td>\n    </tr>\n    <tr>\n      <th>2</th>\n      <td>NaN</td>\n      <td>Average Annual Salary</td>\n      <td>Language</td>\n    </tr>\n    <tr>\n      <th>3</th>\n      <td>NaN</td>\n      <td>$114,383</td>\n      <td>Python</td>\n    </tr>\n    <tr>\n      <th>4</th>\n      <td>NaN</td>\n      <td>$101,013</td>\n      <td>Java</td>\n    </tr>\n    <tr>\n      <th>5</th>\n      <td>NaN</td>\n      <td>$92,037</td>\n      <td>R</td>\n    </tr>\n    <tr>\n      <th>6</th>\n      <td>NaN</td>\n      <td>$110,981</td>\n      <td>Javascript</td>\n    </tr>\n    <tr>\n      <th>7</th>\n      <td>NaN</td>\n      <td>$130,801</td>\n      <td>Swift</td>\n    </tr>\n    <tr>\n      <th>8</th>\n      <td>NaN</td>\n      <td>$113,865</td>\n      <td>C++</td>\n    </tr>\n    <tr>\n      <th>9</th>\n      <td>NaN</td>\n      <td>$88,726</td>\n      <td>C#</td>\n    </tr>\n    <tr>\n      <th>10</th>\n      <td>NaN</td>\n      <td>$84,727</td>\n      <td>PHP</td>\n    </tr>\n    <tr>\n      <th>11</th>\n      <td>NaN</td>\n      <td>$84,793</td>\n      <td>SQL</td>\n    </tr>\n    <tr>\n      <th>12</th>\n      <td>NaN</td>\n      <td>$94,082</td>\n      <td>Go</td>\n    </tr>\n  </tbody>\n</table>\n</div>",
                        "text/plain": "                        0  Annual Average Salary    Language\n0                Language                    NaN         NaN\n1   Annual Average Salary                    NaN         NaN\n2                     NaN  Average Annual Salary    Language\n3                     NaN               $114,383      Python\n4                     NaN               $101,013        Java\n5                     NaN                $92,037           R\n6                     NaN               $110,981  Javascript\n7                     NaN               $130,801       Swift\n8                     NaN               $113,865         C++\n9                     NaN                $88,726          C#\n10                    NaN                $84,727         PHP\n11                    NaN                $84,793         SQL\n12                    NaN                $94,082          Go"
                    },
                    "execution_count": 7,
                    "metadata": {},
                    "output_type": "execute_result"
                }
            ],
            "source": "data_frame"
        },
        {
            "cell_type": "code",
            "execution_count": 8,
            "metadata": {
                "scrolled": true
            },
            "outputs": [
                {
                    "data": {
                        "text/html": "<div>\n<style scoped>\n    .dataframe tbody tr th:only-of-type {\n        vertical-align: middle;\n    }\n\n    .dataframe tbody tr th {\n        vertical-align: top;\n    }\n\n    .dataframe thead th {\n        text-align: right;\n    }\n</style>\n<table border=\"1\" class=\"dataframe\">\n  <thead>\n    <tr style=\"text-align: right;\">\n      <th></th>\n      <th>0</th>\n      <th>Annual Average Salary</th>\n      <th>Language</th>\n    </tr>\n  </thead>\n  <tbody>\n    <tr>\n      <th>0</th>\n      <td>Language</td>\n      <td>NaN</td>\n      <td>NaN</td>\n    </tr>\n    <tr>\n      <th>1</th>\n      <td>Annual Average Salary</td>\n      <td>NaN</td>\n      <td>NaN</td>\n    </tr>\n    <tr>\n      <th>2</th>\n      <td>NaN</td>\n      <td>Average Annual Salary</td>\n      <td>Language</td>\n    </tr>\n    <tr>\n      <th>3</th>\n      <td>NaN</td>\n      <td>$114,383</td>\n      <td>Python</td>\n    </tr>\n    <tr>\n      <th>4</th>\n      <td>NaN</td>\n      <td>$101,013</td>\n      <td>Java</td>\n    </tr>\n    <tr>\n      <th>5</th>\n      <td>NaN</td>\n      <td>$92,037</td>\n      <td>R</td>\n    </tr>\n    <tr>\n      <th>6</th>\n      <td>NaN</td>\n      <td>$110,981</td>\n      <td>Javascript</td>\n    </tr>\n    <tr>\n      <th>7</th>\n      <td>NaN</td>\n      <td>$130,801</td>\n      <td>Swift</td>\n    </tr>\n    <tr>\n      <th>8</th>\n      <td>NaN</td>\n      <td>$113,865</td>\n      <td>C++</td>\n    </tr>\n    <tr>\n      <th>9</th>\n      <td>NaN</td>\n      <td>$88,726</td>\n      <td>C#</td>\n    </tr>\n    <tr>\n      <th>10</th>\n      <td>NaN</td>\n      <td>$84,727</td>\n      <td>PHP</td>\n    </tr>\n    <tr>\n      <th>11</th>\n      <td>NaN</td>\n      <td>$84,793</td>\n      <td>SQL</td>\n    </tr>\n    <tr>\n      <th>12</th>\n      <td>NaN</td>\n      <td>$94,082</td>\n      <td>Go</td>\n    </tr>\n  </tbody>\n</table>\n</div>",
                        "text/plain": "                        0  Annual Average Salary    Language\n0                Language                    NaN         NaN\n1   Annual Average Salary                    NaN         NaN\n2                     NaN  Average Annual Salary    Language\n3                     NaN               $114,383      Python\n4                     NaN               $101,013        Java\n5                     NaN                $92,037           R\n6                     NaN               $110,981  Javascript\n7                     NaN               $130,801       Swift\n8                     NaN               $113,865         C++\n9                     NaN                $88,726          C#\n10                    NaN                $84,727         PHP\n11                    NaN                $84,793         SQL\n12                    NaN                $94,082          Go"
                    },
                    "execution_count": 8,
                    "metadata": {},
                    "output_type": "execute_result"
                }
            ],
            "source": "data_frame.reset_index(inplace=True)\ndata_frame.drop(\"index\", axis=1, inplace=True)\ndata_frame"
        },
        {
            "cell_type": "code",
            "execution_count": 11,
            "metadata": {},
            "outputs": [],
            "source": "data_frame = data_frame.drop(0, axis=1)"
        },
        {
            "cell_type": "code",
            "execution_count": 12,
            "metadata": {},
            "outputs": [
                {
                    "data": {
                        "text/html": "<div>\n<style scoped>\n    .dataframe tbody tr th:only-of-type {\n        vertical-align: middle;\n    }\n\n    .dataframe tbody tr th {\n        vertical-align: top;\n    }\n\n    .dataframe thead th {\n        text-align: right;\n    }\n</style>\n<table border=\"1\" class=\"dataframe\">\n  <thead>\n    <tr style=\"text-align: right;\">\n      <th></th>\n      <th>Annual Average Salary</th>\n      <th>Language</th>\n    </tr>\n  </thead>\n  <tbody>\n    <tr>\n      <th>2</th>\n      <td>Average Annual Salary</td>\n      <td>Language</td>\n    </tr>\n    <tr>\n      <th>3</th>\n      <td>$114,383</td>\n      <td>Python</td>\n    </tr>\n    <tr>\n      <th>4</th>\n      <td>$101,013</td>\n      <td>Java</td>\n    </tr>\n    <tr>\n      <th>5</th>\n      <td>$92,037</td>\n      <td>R</td>\n    </tr>\n    <tr>\n      <th>6</th>\n      <td>$110,981</td>\n      <td>Javascript</td>\n    </tr>\n    <tr>\n      <th>7</th>\n      <td>$130,801</td>\n      <td>Swift</td>\n    </tr>\n    <tr>\n      <th>8</th>\n      <td>$113,865</td>\n      <td>C++</td>\n    </tr>\n    <tr>\n      <th>9</th>\n      <td>$88,726</td>\n      <td>C#</td>\n    </tr>\n    <tr>\n      <th>10</th>\n      <td>$84,727</td>\n      <td>PHP</td>\n    </tr>\n    <tr>\n      <th>11</th>\n      <td>$84,793</td>\n      <td>SQL</td>\n    </tr>\n    <tr>\n      <th>12</th>\n      <td>$94,082</td>\n      <td>Go</td>\n    </tr>\n  </tbody>\n</table>\n</div>",
                        "text/plain": "    Annual Average Salary    Language\n2   Average Annual Salary    Language\n3                $114,383      Python\n4                $101,013        Java\n5                 $92,037           R\n6                $110,981  Javascript\n7                $130,801       Swift\n8                $113,865         C++\n9                 $88,726          C#\n10                $84,727         PHP\n11                $84,793         SQL\n12                $94,082          Go"
                    },
                    "execution_count": 12,
                    "metadata": {},
                    "output_type": "execute_result"
                }
            ],
            "source": "data_frame = data_frame.dropna()\ndata_frame"
        },
        {
            "cell_type": "code",
            "execution_count": 13,
            "metadata": {},
            "outputs": [
                {
                    "data": {
                        "text/html": "<div>\n<style scoped>\n    .dataframe tbody tr th:only-of-type {\n        vertical-align: middle;\n    }\n\n    .dataframe tbody tr th {\n        vertical-align: top;\n    }\n\n    .dataframe thead th {\n        text-align: right;\n    }\n</style>\n<table border=\"1\" class=\"dataframe\">\n  <thead>\n    <tr style=\"text-align: right;\">\n      <th></th>\n      <th>Annual Average Salary</th>\n      <th>Language</th>\n    </tr>\n  </thead>\n  <tbody>\n    <tr>\n      <th>3</th>\n      <td>$114,383</td>\n      <td>Python</td>\n    </tr>\n    <tr>\n      <th>4</th>\n      <td>$101,013</td>\n      <td>Java</td>\n    </tr>\n    <tr>\n      <th>5</th>\n      <td>$92,037</td>\n      <td>R</td>\n    </tr>\n    <tr>\n      <th>6</th>\n      <td>$110,981</td>\n      <td>Javascript</td>\n    </tr>\n    <tr>\n      <th>7</th>\n      <td>$130,801</td>\n      <td>Swift</td>\n    </tr>\n    <tr>\n      <th>8</th>\n      <td>$113,865</td>\n      <td>C++</td>\n    </tr>\n    <tr>\n      <th>9</th>\n      <td>$88,726</td>\n      <td>C#</td>\n    </tr>\n    <tr>\n      <th>10</th>\n      <td>$84,727</td>\n      <td>PHP</td>\n    </tr>\n    <tr>\n      <th>11</th>\n      <td>$84,793</td>\n      <td>SQL</td>\n    </tr>\n    <tr>\n      <th>12</th>\n      <td>$94,082</td>\n      <td>Go</td>\n    </tr>\n  </tbody>\n</table>\n</div>",
                        "text/plain": "   Annual Average Salary    Language\n3               $114,383      Python\n4               $101,013        Java\n5                $92,037           R\n6               $110,981  Javascript\n7               $130,801       Swift\n8               $113,865         C++\n9                $88,726          C#\n10               $84,727         PHP\n11               $84,793         SQL\n12               $94,082          Go"
                    },
                    "execution_count": 13,
                    "metadata": {},
                    "output_type": "execute_result"
                }
            ],
            "source": "data_frame = data_frame.drop(2)\ndata_frame"
        },
        {
            "cell_type": "code",
            "execution_count": 24,
            "metadata": {},
            "outputs": [
                {
                    "data": {
                        "text/html": "<div>\n<style scoped>\n    .dataframe tbody tr th:only-of-type {\n        vertical-align: middle;\n    }\n\n    .dataframe tbody tr th {\n        vertical-align: top;\n    }\n\n    .dataframe thead th {\n        text-align: right;\n    }\n</style>\n<table border=\"1\" class=\"dataframe\">\n  <thead>\n    <tr style=\"text-align: right;\">\n      <th></th>\n      <th>Annual Average Salary</th>\n      <th>Language</th>\n    </tr>\n  </thead>\n  <tbody>\n    <tr>\n      <th>0</th>\n      <td>114383</td>\n      <td>Python</td>\n    </tr>\n    <tr>\n      <th>1</th>\n      <td>101013</td>\n      <td>Java</td>\n    </tr>\n    <tr>\n      <th>2</th>\n      <td>92037</td>\n      <td>R</td>\n    </tr>\n    <tr>\n      <th>3</th>\n      <td>110981</td>\n      <td>Javascript</td>\n    </tr>\n    <tr>\n      <th>4</th>\n      <td>130801</td>\n      <td>Swift</td>\n    </tr>\n    <tr>\n      <th>5</th>\n      <td>113865</td>\n      <td>C++</td>\n    </tr>\n    <tr>\n      <th>6</th>\n      <td>88726</td>\n      <td>C#</td>\n    </tr>\n    <tr>\n      <th>7</th>\n      <td>84727</td>\n      <td>PHP</td>\n    </tr>\n    <tr>\n      <th>8</th>\n      <td>84793</td>\n      <td>SQL</td>\n    </tr>\n    <tr>\n      <th>9</th>\n      <td>94082</td>\n      <td>Go</td>\n    </tr>\n  </tbody>\n</table>\n</div>",
                        "text/plain": "   Annual Average Salary    Language\n0                 114383      Python\n1                 101013        Java\n2                  92037           R\n3                 110981  Javascript\n4                 130801       Swift\n5                 113865         C++\n6                  88726          C#\n7                  84727         PHP\n8                  84793         SQL\n9                  94082          Go"
                    },
                    "execution_count": 24,
                    "metadata": {},
                    "output_type": "execute_result"
                }
            ],
            "source": "data_frame"
        },
        {
            "cell_type": "code",
            "execution_count": 21,
            "metadata": {},
            "outputs": [],
            "source": "data_frame['Annual Average Salary'] = data_frame['Annual Average Salary'].astype(int)"
        },
        {
            "cell_type": "code",
            "execution_count": 37,
            "metadata": {},
            "outputs": [],
            "source": "import matplotlib.pyplot as plt"
        },
        {
            "cell_type": "code",
            "execution_count": 38,
            "metadata": {
                "scrolled": true
            },
            "outputs": [
                {
                    "data": {
                        "text/plain": "Text(0.5, 1.0, 'Anunual Average Salary based on Programming Language')"
                    },
                    "execution_count": 38,
                    "metadata": {},
                    "output_type": "execute_result"
                },
                {
                    "data": {
                        "image/png": "[encoded data removed]",
                        "text/plain": "<Figure size 720x360 with 1 Axes>"
                    },
                    "metadata": {
                        "needs_background": "light"
                    },
                    "output_type": "display_data"
                }
            ],
            "source": "data_frame.sort_values('Annual Average Salary').set_index('Language').plot.barh(figsize=[10,5])\nplt.title('Anunual Average Salary based on Programming Language')"
        },
        {
            "cell_type": "code",
            "execution_count": 17,
            "metadata": {},
            "outputs": [
                {
                    "name": "stderr",
                    "output_type": "stream",
                    "text": "/tmp/wsuser/ipykernel_228/830600737.py:1: FutureWarning: The default value of regex will change from True to False in a future version.\n  data_frame[\"Annual Average Salary\"] = data_frame['Annual Average Salary'].str.replace(',|\\$',\"\")\n"
                }
            ],
            "source": ""
        },
        {
            "cell_type": "code",
            "execution_count": null,
            "metadata": {},
            "outputs": [],
            "source": ""
        },
        {
            "cell_type": "code",
            "execution_count": 43,
            "metadata": {},
            "outputs": [],
            "source": "data_frame.to_csv(\"popular-languages.csv\", index=False)"
        },
        {
            "cell_type": "markdown",
            "metadata": {},
            "source": "## Authors\n"
        },
        {
            "cell_type": "markdown",
            "metadata": {},
            "source": "Ramesh Sannareddy\n"
        },
        {
            "cell_type": "markdown",
            "metadata": {},
            "source": "### Other Contributors\n"
        },
        {
            "cell_type": "markdown",
            "metadata": {},
            "source": "Rav Ahuja\n"
        },
        {
            "cell_type": "markdown",
            "metadata": {},
            "source": "## Change Log\n"
        },
        {
            "cell_type": "markdown",
            "metadata": {},
            "source": "| Date (YYYY-MM-DD) | Version | Changed By        | Change Description                 |\n| ----------------- | ------- | ----------------- | ---------------------------------- |\n| 2020-10-17        | 0.1     | Ramesh Sannareddy | Created initial version of the lab |\n"
        },
        {
            "cell_type": "markdown",
            "metadata": {},
            "source": "Copyright \u00a9 2020 IBM Corporation. This notebook and its source code are released under the terms of the [MIT License](https://cognitiveclass.ai/mit-license/?utm_medium=Exinfluencer&utm_source=Exinfluencer&utm_content=000026UJ&utm_term=10006555&utm_id=NA-SkillsNetwork-Channel-SkillsNetworkCoursesIBMDA0321ENSkillsNetwork21426264-2021-01-01).\n"
        }
    ],
    "metadata": {
        "kernelspec": {
            "display_name": "Python 3.8",
            "language": "python",
            "name": "python3"
        },
        "language_info": {
            "codemirror_mode": {
                "name": "ipython",
                "version": 3
            },
            "file_extension": ".py",
            "mimetype": "text/x-python",
            "name": "python",
            "nbconvert_exporter": "python",
            "pygments_lexer": "ipython3",
            "version": "3.8.12"
        }
    },
    "nbformat": 4,
    "nbformat_minor": 4
}