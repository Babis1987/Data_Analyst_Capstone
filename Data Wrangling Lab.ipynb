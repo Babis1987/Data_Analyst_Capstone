{
    "cells": [
        {
            "cell_type": "markdown",
            "metadata": {},
            "source": "<center>\n    <img src=\"https://gitlab.com/ibm/skills-network/courses/placeholder101/-/raw/master/labs/module%201/images/IDSNlogo.png\" width=\"300\" alt=\"cognitiveclass.ai logo\"  />\n</center>\n"
        },
        {
            "cell_type": "markdown",
            "metadata": {},
            "source": "# **Data Wrangling Lab**\n"
        },
        {
            "cell_type": "markdown",
            "metadata": {},
            "source": "Estimated time needed: **45 to 60** minutes\n"
        },
        {
            "cell_type": "markdown",
            "metadata": {},
            "source": "In this assignment you will be performing data wrangling.\n"
        },
        {
            "cell_type": "markdown",
            "metadata": {},
            "source": "## Objectives\n"
        },
        {
            "cell_type": "markdown",
            "metadata": {},
            "source": "In this lab you will perform the following:\n"
        },
        {
            "cell_type": "markdown",
            "metadata": {},
            "source": "*   Identify duplicate values in the dataset.\n\n*   Remove duplicate values from the dataset.\n\n*   Identify missing values in the dataset.\n\n*   Impute the missing values in the dataset.\n\n*   Normalize data in the dataset.\n"
        },
        {
            "cell_type": "markdown",
            "metadata": {},
            "source": "<hr>\n"
        },
        {
            "cell_type": "markdown",
            "metadata": {},
            "source": "## Hands on Lab\n"
        },
        {
            "cell_type": "markdown",
            "metadata": {},
            "source": "Import pandas module.\n"
        },
        {
            "cell_type": "code",
            "execution_count": 1,
            "metadata": {},
            "outputs": [],
            "source": "import pandas as pd"
        },
        {
            "cell_type": "markdown",
            "metadata": {},
            "source": "Load the dataset into a dataframe.\n"
        },
        {
            "cell_type": "code",
            "execution_count": 164,
            "metadata": {},
            "outputs": [],
            "source": "newdf = pd.read_csv(\"https://cf-courses-data.s3.us.cloud-object-storage.appdomain.cloud/IBM-DA0321EN-SkillsNetwork/LargeData/m1_survey_data.csv\")"
        },
        {
            "cell_type": "markdown",
            "metadata": {},
            "source": "## Finding duplicates\n"
        },
        {
            "cell_type": "markdown",
            "metadata": {},
            "source": "In this section you will identify duplicate values in the dataset.\n"
        },
        {
            "cell_type": "markdown",
            "metadata": {},
            "source": "Find how many duplicate rows exist in the dataframe.\n"
        },
        {
            "cell_type": "code",
            "execution_count": 171,
            "metadata": {},
            "outputs": [
                {
                    "name": "stdout",
                    "output_type": "stream",
                    "text": "<class 'pandas.core.frame.DataFrame'>\nInt64Index: 11398 entries, 0 to 11551\nData columns (total 1 columns):\n #   Column      Non-Null Count  Dtype\n---  ------      --------------  -----\n 0   Respondent  11398 non-null  int64\ndtypes: int64(1)\nmemory usage: 436.1 KB\n"
                }
            ],
            "source": "df[['Respondent']].info()"
        },
        {
            "cell_type": "code",
            "execution_count": 167,
            "metadata": {},
            "outputs": [
                {
                    "name": "stdout",
                    "output_type": "stream",
                    "text": "154\n"
                }
            ],
            "source": "# your code goes here\ncount = 0\nfor i in newdf[['Respondent']].duplicated():\n    if (i==True):\n        count = count+1\nprint(count)"
        },
        {
            "cell_type": "markdown",
            "metadata": {},
            "source": "## Removing duplicates\n"
        },
        {
            "cell_type": "markdown",
            "metadata": {},
            "source": "Remove the duplicate rows from the dataframe.\n"
        },
        {
            "cell_type": "code",
            "execution_count": 95,
            "metadata": {},
            "outputs": [],
            "source": "# your code goes here\ndf = df.drop_duplicates()"
        },
        {
            "cell_type": "markdown",
            "metadata": {},
            "source": "Verify if duplicates were actually dropped.\n"
        },
        {
            "cell_type": "code",
            "execution_count": 96,
            "metadata": {},
            "outputs": [
                {
                    "name": "stdout",
                    "output_type": "stream",
                    "text": "0\n"
                }
            ],
            "source": "# your code goes here\ncount = 0\nfor i in df.duplicated():\n    if (i==True):\n        count = count+1\nprint(count)"
        },
        {
            "cell_type": "markdown",
            "metadata": {},
            "source": "## Finding Missing values\n"
        },
        {
            "cell_type": "markdown",
            "metadata": {},
            "source": "Find the missing values for all columns.\n"
        },
        {
            "cell_type": "code",
            "execution_count": 106,
            "metadata": {},
            "outputs": [
                {
                    "name": "stdout",
                    "output_type": "stream",
                    "text": "Respondent \t\t  0\nMainBranch \t\t  0\nHobbyist \t\t  0\nOpenSourcer \t\t  0\nOpenSource \t\t  81\nEmployment \t\t  0\nCountry \t\t  0\nStudent \t\t  51\nEdLevel \t\t  112\nUndergradMajor \t\t  737\nEduOther \t\t  164\nOrgSize \t\t  96\nDevType \t\t  65\nYearsCode \t\t  9\nAge1stCode \t\t  13\nYearsCodePro \t\t  16\nCareerSat \t\t  0\nJobSat \t\t  1\nMgrIdiot \t\t  493\nMgrMoney \t\t  497\nMgrWant \t\t  493\nJobSeek \t\t  0\nLastHireDate \t\t  0\nLastInt \t\t  413\nFizzBuzz \t\t  37\nJobFactors \t\t  3\nResumeUpdate \t\t  39\nCurrencySymbol \t\t  0\nCurrencyDesc \t\t  0\nCompTotal \t\t  809\nCompFreq \t\t  206\nConvertedComp \t\t  816\nWorkWeekHrs \t\t  122\nWorkPlan \t\t  121\nWorkChallenge \t\t  164\nWorkRemote \t\t  8\nWorkLoc \t\t  32\nImpSyn \t\t  5\nCodeRev \t\t  1\nCodeRevHrs \t\t  2426\nUnitTests \t\t  29\nPurchaseHow \t\t  196\nPurchaseWhat \t\t  38\nLanguageWorkedWith \t\t  11\nLanguageDesireNextYear \t\t  134\nDatabaseWorkedWith \t\t  453\nDatabaseDesireNextYear \t\t  1042\nPlatformWorkedWith \t\t  411\nPlatformDesireNextYear \t\t  544\nWebFrameWorkedWith \t\t  1393\nWebFrameDesireNextYear \t\t  1617\nMiscTechWorkedWith \t\t  2182\nMiscTechDesireNextYear \t\t  1455\nDevEnviron \t\t  29\nOpSys \t\t  34\nContainers \t\t  82\nBlockchainOrg \t\t  2322\nBlockchainIs \t\t  2610\nBetterLife \t\t  98\nITperson \t\t  35\nOffOn \t\t  38\nSocialMedia \t\t  293\nExtraversion \t\t  20\nScreenName \t\t  507\nSOVisit1st \t\t  325\nSOVisitFreq \t\t  5\nSOVisitTo \t\t  1\nSOFindAnswer \t\t  3\nSOTimeSaved \t\t  50\nSOHowMuchTime \t\t  1917\nSOAccount \t\t  1\nSOPartFreq \t\t  1128\nSOJobs \t\t  6\nEntTeams \t\t  5\nSOComm \t\t  0\nWelcomeChange \t\t  85\nSONewContent \t\t  1965\nAge \t\t  287\nGender \t\t  73\nTrans \t\t  123\nSexuality \t\t  542\nEthnicity \t\t  675\nDependents \t\t  140\nSurveyLength \t\t  19\nSurveyEase \t\t  14\n"
                }
            ],
            "source": "# your code goes here\nfor i,j in enumerate(df.isnull().sum()):\n    print(df.columns[i],\"\\t\\t \",j)"
        },
        {
            "cell_type": "markdown",
            "metadata": {},
            "source": "Find out how many rows are missing in the column 'WorkLoc'\n"
        },
        {
            "cell_type": "code",
            "execution_count": 174,
            "metadata": {},
            "outputs": [
                {
                    "data": {
                        "text/plain": "0"
                    },
                    "execution_count": 174,
                    "metadata": {},
                    "output_type": "execute_result"
                }
            ],
            "source": "newdf[\"Country\"].isnull().sum()"
        },
        {
            "cell_type": "code",
            "execution_count": 108,
            "metadata": {},
            "outputs": [
                {
                    "data": {
                        "text/plain": "32"
                    },
                    "execution_count": 108,
                    "metadata": {},
                    "output_type": "execute_result"
                }
            ],
            "source": "df[\"WorkLoc\"].isnull().sum()"
        },
        {
            "cell_type": "markdown",
            "metadata": {},
            "source": "## Imputing missing values\n"
        },
        {
            "cell_type": "markdown",
            "metadata": {},
            "source": "Find the  value counts for the column WorkLoc.\n"
        },
        {
            "cell_type": "markdown",
            "metadata": {},
            "source": "Identify the value that is most frequent (majority) in the WorkLoc column.\n"
        },
        {
            "cell_type": "code",
            "execution_count": 109,
            "metadata": {},
            "outputs": [],
            "source": "#make a note of the majority value here, for future reference\nmax_workloc_freq = df[\"WorkLoc\"].value_counts().max()\ndf_workloc = pd.DataFrame(df[['WorkLoc']].value_counts())\ndf_workloc.rename(columns={\"WorkLoc\":\"Work Location\", 0:\"Value Counts\"}, inplace=True)"
        },
        {
            "cell_type": "code",
            "execution_count": 110,
            "metadata": {},
            "outputs": [],
            "source": "df_workloc.reset_index(inplace=True)"
        },
        {
            "cell_type": "code",
            "execution_count": 111,
            "metadata": {},
            "outputs": [],
            "source": "max_work_location = df_workloc[df_workloc[\"Value Counts\"]==df_workloc[\"Value Counts\"].max() ]['WorkLoc'][0]"
        },
        {
            "cell_type": "markdown",
            "metadata": {},
            "source": "Impute (replace) all the empty rows in the column WorkLoc with the value that you have identified as majority.\n"
        },
        {
            "cell_type": "code",
            "execution_count": 112,
            "metadata": {},
            "outputs": [],
            "source": "import numpy as np"
        },
        {
            "cell_type": "code",
            "execution_count": 115,
            "metadata": {},
            "outputs": [
                {
                    "name": "stdout",
                    "output_type": "stream",
                    "text": "0\n"
                }
            ],
            "source": "count = 0\nfor i in df[\"WorkLoc\"]:\n    if (i != \"Home\" and i != \"Office\" and i!=\"Other place, such as a coworking space or cafe\"):\n        count = count+1\nprint(count)"
        },
        {
            "cell_type": "code",
            "execution_count": 114,
            "metadata": {},
            "outputs": [],
            "source": "df[\"WorkLoc\"] = df[\"WorkLoc\"].replace({np.nan:max_work_location})"
        },
        {
            "cell_type": "markdown",
            "metadata": {},
            "source": "After imputation there should ideally not be any empty rows in the WorkLoc column.\n"
        },
        {
            "cell_type": "markdown",
            "metadata": {},
            "source": "Verify if imputing was successful.\n"
        },
        {
            "cell_type": "code",
            "execution_count": 116,
            "metadata": {},
            "outputs": [
                {
                    "data": {
                        "text/plain": "0"
                    },
                    "execution_count": 116,
                    "metadata": {},
                    "output_type": "execute_result"
                }
            ],
            "source": "# your code goes here\ndf[\"WorkLoc\"].isnull().sum()"
        },
        {
            "cell_type": "markdown",
            "metadata": {},
            "source": "## Normalizing data\n"
        },
        {
            "cell_type": "markdown",
            "metadata": {},
            "source": "There are two columns in the dataset that talk about compensation.\n\nOne is \"CompFreq\". This column shows how often a developer is paid (Yearly, Monthly, Weekly).\n\nThe other is \"CompTotal\". This column talks about how much the developer is paid per Year, Month, or Week depending upon his/her \"CompFreq\".\n\nThis makes it difficult to compare the total compensation of the developers.\n\nIn this section you will create a new column called 'NormalizedAnnualCompensation' which contains the 'Annual Compensation' irrespective of the 'CompFreq'.\n\nOnce this column is ready, it makes comparison of salaries easy.\n"
        },
        {
            "cell_type": "markdown",
            "metadata": {},
            "source": "<hr>\n"
        },
        {
            "cell_type": "markdown",
            "metadata": {},
            "source": "List out the various categories in the column 'CompFreq'\n"
        },
        {
            "cell_type": "code",
            "execution_count": 117,
            "metadata": {},
            "outputs": [
                {
                    "data": {
                        "text/plain": "array(['Yearly', 'Monthly', 'Weekly', nan], dtype=object)"
                    },
                    "execution_count": 117,
                    "metadata": {},
                    "output_type": "execute_result"
                }
            ],
            "source": "# your code goes here\ndf[\"CompFreq\"].unique()"
        },
        {
            "cell_type": "markdown",
            "metadata": {},
            "source": "Create a new column named 'NormalizedAnnualCompensation'. Use the hint given below if needed.\n"
        },
        {
            "cell_type": "markdown",
            "metadata": {},
            "source": "Double click to see the **Hint**.\n\n<!--\n\nUse the below logic to arrive at the values for the column NormalizedAnnualCompensation.\n\nIf the CompFreq is Yearly then use the exising value in CompTotal\nIf the CompFreq is Monthly then multiply the value in CompTotal with 12 (months in an year)\nIf the CompFreq is Weekly then multiply the value in CompTotal with 52 (weeks in an year)\n\n-->\n"
        },
        {
            "cell_type": "code",
            "execution_count": 158,
            "metadata": {},
            "outputs": [],
            "source": "conditions = [(newdf['CompFreq']==\"Yearly\"),\n             (newdf['CompFreq']==\"Monthly\"),\n             (newdf['CompFreq']==\"Weekly\"),\n             (newdf['CompFreq']==np.nan)]"
        },
        {
            "cell_type": "code",
            "execution_count": 156,
            "metadata": {},
            "outputs": [],
            "source": "values = [1, 12, 52, 0]"
        },
        {
            "cell_type": "code",
            "execution_count": 159,
            "metadata": {},
            "outputs": [
                {
                    "data": {
                        "text/plain": "0         1\n1         1\n2         1\n3        12\n4         1\n         ..\n11547     1\n11548     1\n11549     1\n11550     1\n11551     0\nName: helpNormalize, Length: 11398, dtype: int64"
                    },
                    "execution_count": 159,
                    "metadata": {},
                    "output_type": "execute_result"
                }
            ],
            "source": "df[\"helpNormalize\"] = np.select(conditions,values)\ndf[\"helpNormalize\"]"
        },
        {
            "cell_type": "code",
            "execution_count": 160,
            "metadata": {
                "scrolled": true
            },
            "outputs": [
                {
                    "data": {
                        "text/plain": "0         61000.0\n1        138000.0\n2         90000.0\n3        348000.0\n4         90000.0\n           ...   \n11547    130000.0\n11548     74400.0\n11549    105000.0\n11550     80000.0\n11551         NaN\nName: NormalizedAnnualCompensation, Length: 11398, dtype: float64"
                    },
                    "execution_count": 160,
                    "metadata": {},
                    "output_type": "execute_result"
                }
            ],
            "source": "df[\"NormalizedAnnualCompensation\"] = df[\"helpNormalize\"]*df[\"CompTotal\"]\ndf[\"NormalizedAnnualCompensation\"]"
        },
        {
            "cell_type": "code",
            "execution_count": 163,
            "metadata": {},
            "outputs": [
                {
                    "data": {
                        "text/html": "<div>\n<style scoped>\n    .dataframe tbody tr th:only-of-type {\n        vertical-align: middle;\n    }\n\n    .dataframe tbody tr th {\n        vertical-align: top;\n    }\n\n    .dataframe thead th {\n        text-align: right;\n    }\n</style>\n<table border=\"1\" class=\"dataframe\">\n  <thead>\n    <tr style=\"text-align: right;\">\n      <th></th>\n      <th>CompTotal</th>\n      <th>CompFreq</th>\n      <th>NormalizedAnnualCompensation</th>\n    </tr>\n  </thead>\n  <tbody>\n    <tr>\n      <th>0</th>\n      <td>61000.0</td>\n      <td>Yearly</td>\n      <td>61000.0</td>\n    </tr>\n    <tr>\n      <th>1</th>\n      <td>138000.0</td>\n      <td>Yearly</td>\n      <td>138000.0</td>\n    </tr>\n    <tr>\n      <th>2</th>\n      <td>90000.0</td>\n      <td>Yearly</td>\n      <td>90000.0</td>\n    </tr>\n    <tr>\n      <th>3</th>\n      <td>29000.0</td>\n      <td>Monthly</td>\n      <td>348000.0</td>\n    </tr>\n    <tr>\n      <th>4</th>\n      <td>90000.0</td>\n      <td>Yearly</td>\n      <td>90000.0</td>\n    </tr>\n    <tr>\n      <th>5</th>\n      <td>9500.0</td>\n      <td>Monthly</td>\n      <td>114000.0</td>\n    </tr>\n    <tr>\n      <th>6</th>\n      <td>3000.0</td>\n      <td>Monthly</td>\n      <td>36000.0</td>\n    </tr>\n    <tr>\n      <th>7</th>\n      <td>103000.0</td>\n      <td>Yearly</td>\n      <td>103000.0</td>\n    </tr>\n    <tr>\n      <th>8</th>\n      <td>69000.0</td>\n      <td>Yearly</td>\n      <td>69000.0</td>\n    </tr>\n    <tr>\n      <th>9</th>\n      <td>8000.0</td>\n      <td>Monthly</td>\n      <td>96000.0</td>\n    </tr>\n    <tr>\n      <th>10</th>\n      <td>7000.0</td>\n      <td>Monthly</td>\n      <td>84000.0</td>\n    </tr>\n    <tr>\n      <th>11</th>\n      <td>114000.0</td>\n      <td>Yearly</td>\n      <td>114000.0</td>\n    </tr>\n    <tr>\n      <th>12</th>\n      <td>2000.0</td>\n      <td>Weekly</td>\n      <td>104000.0</td>\n    </tr>\n    <tr>\n      <th>13</th>\n      <td>22000.0</td>\n      <td>Weekly</td>\n      <td>1144000.0</td>\n    </tr>\n    <tr>\n      <th>14</th>\n      <td>96000.0</td>\n      <td>Monthly</td>\n      <td>1152000.0</td>\n    </tr>\n    <tr>\n      <th>15</th>\n      <td>156000.0</td>\n      <td>Yearly</td>\n      <td>156000.0</td>\n    </tr>\n    <tr>\n      <th>16</th>\n      <td>18000.0</td>\n      <td>Yearly</td>\n      <td>18000.0</td>\n    </tr>\n    <tr>\n      <th>17</th>\n      <td>6400.0</td>\n      <td>Monthly</td>\n      <td>76800.0</td>\n    </tr>\n    <tr>\n      <th>18</th>\n      <td>5000.0</td>\n      <td>Monthly</td>\n      <td>60000.0</td>\n    </tr>\n    <tr>\n      <th>19</th>\n      <td>400000.0</td>\n      <td>Yearly</td>\n      <td>400000.0</td>\n    </tr>\n  </tbody>\n</table>\n</div>",
                        "text/plain": "    CompTotal CompFreq  NormalizedAnnualCompensation\n0     61000.0   Yearly                       61000.0\n1    138000.0   Yearly                      138000.0\n2     90000.0   Yearly                       90000.0\n3     29000.0  Monthly                      348000.0\n4     90000.0   Yearly                       90000.0\n5      9500.0  Monthly                      114000.0\n6      3000.0  Monthly                       36000.0\n7    103000.0   Yearly                      103000.0\n8     69000.0   Yearly                       69000.0\n9      8000.0  Monthly                       96000.0\n10     7000.0  Monthly                       84000.0\n11   114000.0   Yearly                      114000.0\n12     2000.0   Weekly                      104000.0\n13    22000.0   Weekly                     1144000.0\n14    96000.0  Monthly                     1152000.0\n15   156000.0   Yearly                      156000.0\n16    18000.0   Yearly                       18000.0\n17     6400.0  Monthly                       76800.0\n18     5000.0  Monthly                       60000.0\n19   400000.0   Yearly                      400000.0"
                    },
                    "execution_count": 163,
                    "metadata": {},
                    "output_type": "execute_result"
                }
            ],
            "source": "df[[\"CompTotal\", \"CompFreq\",\"NormalizedAnnualCompensation\" ]].head(20)"
        },
        {
            "cell_type": "code",
            "execution_count": 179,
            "metadata": {},
            "outputs": [
                {
                    "data": {
                        "text/plain": "Yearly     6073\nMonthly    4788\nWeekly      331\nName: CompFreq, dtype: int64"
                    },
                    "execution_count": 179,
                    "metadata": {},
                    "output_type": "execute_result"
                }
            ],
            "source": "df[\"CompFreq\"].value_counts()"
        },
        {
            "cell_type": "code",
            "execution_count": 180,
            "metadata": {},
            "outputs": [
                {
                    "data": {
                        "text/plain": "100000.0"
                    },
                    "execution_count": 180,
                    "metadata": {},
                    "output_type": "execute_result"
                }
            ],
            "source": "df[\"NormalizedAnnualCompensation\"].median()"
        },
        {
            "cell_type": "markdown",
            "metadata": {},
            "source": "## Authors\n"
        },
        {
            "cell_type": "markdown",
            "metadata": {},
            "source": "Ramesh Sannareddy\n"
        },
        {
            "cell_type": "markdown",
            "metadata": {},
            "source": "### Other Contributors\n"
        },
        {
            "cell_type": "markdown",
            "metadata": {},
            "source": "Rav Ahuja\n"
        },
        {
            "cell_type": "markdown",
            "metadata": {},
            "source": "## Change Log\n"
        },
        {
            "cell_type": "markdown",
            "metadata": {},
            "source": "| Date (YYYY-MM-DD) | Version | Changed By        | Change Description                 |\n| ----------------- | ------- | ----------------- | ---------------------------------- |\n| 2020-10-17        | 0.1     | Ramesh Sannareddy | Created initial version of the lab |\n"
        },
        {
            "cell_type": "markdown",
            "metadata": {},
            "source": "Copyright \u00a9 2020 IBM Corporation. This notebook and its source code are released under the terms of the [MIT License](https://cognitiveclass.ai/mit-license?utm_medium=Exinfluencer&utm_source=Exinfluencer&utm_content=000026UJ&utm_term=10006555&utm_id=NA-SkillsNetwork-Channel-SkillsNetworkCoursesIBMDA0321ENSkillsNetwork21426264-2021-01-01&cm_mmc=Email_Newsletter-\\_-Developer_Ed%2BTech-\\_-WW_WW-\\_-SkillsNetwork-Courses-IBM-DA0321EN-SkillsNetwork-21426264&cm_mmca1=000026UJ&cm_mmca2=10006555&cm_mmca3=M12345678&cvosrc=email.Newsletter.M12345678&cvo_campaign=000026UJ).\n"
        }
    ],
    "metadata": {
        "kernelspec": {
            "display_name": "Python 3.8",
            "language": "python",
            "name": "python3"
        },
        "language_info": {
            "codemirror_mode": {
                "name": "ipython",
                "version": 3
            },
            "file_extension": ".py",
            "mimetype": "text/x-python",
            "name": "python",
            "nbconvert_exporter": "python",
            "pygments_lexer": "ipython3",
            "version": "3.8.12"
        }
    },
    "nbformat": 4,
    "nbformat_minor": 4
}